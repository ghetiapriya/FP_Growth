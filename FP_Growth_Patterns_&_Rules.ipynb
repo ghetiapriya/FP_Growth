{
 "cells": [
  {
   "cell_type": "markdown",
   "metadata": {},
   "source": [
    "# FP Growth algorithm implementation and visualization"
   ]
  },
  {
   "cell_type": "markdown",
   "metadata": {},
   "source": [
    "This notebook provides a simple demo of implementing FP-Growth algorithm in python using the \"pyfpgrowth\" library.  \n",
    "It shows the patterns that gets generated on the sample data as well as the rules that are obtained using the generated patterns.  \n",
    "Also, a visualization exercise to represent the obtained rules."
   ]
  },
  {
   "cell_type": "code",
   "execution_count": 1,
   "metadata": {},
   "outputs": [],
   "source": [
    "import pyfpgrowth\n",
    "import pandas as pd\n",
    "import matplotlib.pyplot as plt\n",
    "import networkx as nx"
   ]
  },
  {
   "cell_type": "code",
   "execution_count": 2,
   "metadata": {},
   "outputs": [],
   "source": [
    "data = pd.read_excel('data/Online_Retail.xlsx', sheet_name='Sheet1')"
   ]
  },
  {
   "cell_type": "code",
   "execution_count": 3,
   "metadata": {},
   "outputs": [
    {
     "data": {
      "text/html": [
       "<div>\n",
       "<style scoped>\n",
       "    .dataframe tbody tr th:only-of-type {\n",
       "        vertical-align: middle;\n",
       "    }\n",
       "\n",
       "    .dataframe tbody tr th {\n",
       "        vertical-align: top;\n",
       "    }\n",
       "\n",
       "    .dataframe thead th {\n",
       "        text-align: right;\n",
       "    }\n",
       "</style>\n",
       "<table border=\"1\" class=\"dataframe\">\n",
       "  <thead>\n",
       "    <tr style=\"text-align: right;\">\n",
       "      <th></th>\n",
       "      <th>InvoiceNo</th>\n",
       "      <th>StockCode</th>\n",
       "      <th>Description</th>\n",
       "      <th>Quantity</th>\n",
       "      <th>UnitPrice</th>\n",
       "      <th>CustomerID</th>\n",
       "    </tr>\n",
       "  </thead>\n",
       "  <tbody>\n",
       "    <tr>\n",
       "      <th>0</th>\n",
       "      <td>536365</td>\n",
       "      <td>1</td>\n",
       "      <td>pizza_dough</td>\n",
       "      <td>3</td>\n",
       "      <td>50</td>\n",
       "      <td>cust_1</td>\n",
       "    </tr>\n",
       "    <tr>\n",
       "      <th>1</th>\n",
       "      <td>536365</td>\n",
       "      <td>2</td>\n",
       "      <td>cheeze</td>\n",
       "      <td>2</td>\n",
       "      <td>40</td>\n",
       "      <td>cust_1</td>\n",
       "    </tr>\n",
       "    <tr>\n",
       "      <th>2</th>\n",
       "      <td>536365</td>\n",
       "      <td>5</td>\n",
       "      <td>oregano</td>\n",
       "      <td>1</td>\n",
       "      <td>20</td>\n",
       "      <td>cust_1</td>\n",
       "    </tr>\n",
       "    <tr>\n",
       "      <th>3</th>\n",
       "      <td>536366</td>\n",
       "      <td>6</td>\n",
       "      <td>salty_snack</td>\n",
       "      <td>5</td>\n",
       "      <td>40</td>\n",
       "      <td>cust_2</td>\n",
       "    </tr>\n",
       "    <tr>\n",
       "      <th>4</th>\n",
       "      <td>536366</td>\n",
       "      <td>8</td>\n",
       "      <td>beer</td>\n",
       "      <td>4</td>\n",
       "      <td>100</td>\n",
       "      <td>cust_2</td>\n",
       "    </tr>\n",
       "  </tbody>\n",
       "</table>\n",
       "</div>"
      ],
      "text/plain": [
       "   InvoiceNo  StockCode  Description  Quantity  UnitPrice CustomerID\n",
       "0     536365          1  pizza_dough         3         50     cust_1\n",
       "1     536365          2       cheeze         2         40     cust_1\n",
       "2     536365          5      oregano         1         20     cust_1\n",
       "3     536366          6  salty_snack         5         40     cust_2\n",
       "4     536366          8         beer         4        100     cust_2"
      ]
     },
     "execution_count": 3,
     "metadata": {},
     "output_type": "execute_result"
    }
   ],
   "source": [
    "data.head()"
   ]
  },
  {
   "cell_type": "markdown",
   "metadata": {},
   "source": [
    "### Frequency plot for each of the items in the dataset"
   ]
  },
  {
   "cell_type": "code",
   "execution_count": 4,
   "metadata": {},
   "outputs": [
    {
     "data": {
      "image/png": "[encoded data removed]",
      "text/plain": [
       "<Figure size 720x504 with 1 Axes>"
      ]
     },
     "metadata": {
      "needs_background": "light"
     },
     "output_type": "display_data"
    }
   ],
   "source": [
    "# Plot frequency of each item in the dataset\n",
    "\n",
    "plt.figure(figsize = (10, 7)) \n",
    "plt.xlabel('Items', fontsize = 20)\n",
    "plt.ylabel('Frequency', fontsize = 20)\n",
    "plt.hist(data['Description'], bins = 10, alpha = 0.5, histtype = 'bar', ec = 'black')\n",
    "plt.xticks(fontsize = 10) \n",
    "plt.yticks(fontsize = 20) \n",
    "plt.show() "
   ]
  },
  {
   "cell_type": "code",
   "execution_count": 5,
   "metadata": {},
   "outputs": [
    {
     "data": {
      "text/plain": [
       "[['pizza_dough', 'cheeze', 'oregano'],\n",
       " ['salty_snack', 'beer', 'soda'],\n",
       " ['cheeze', 'sauce'],\n",
       " ['chocolate', 'beer', 'salty_snack', 'soda'],\n",
       " ['pizza_dough', 'sauce'],\n",
       " ['salty_snack', 'sauce'],\n",
       " ['pizza_dough', 'sauce'],\n",
       " ['pizza_dough', 'cheeze', 'sauce', 'soda'],\n",
       " ['pizza_dough', 'cheeze', 'sauce'],\n",
       " ['soda', 'beer']]"
      ]
     },
     "execution_count": 5,
     "metadata": {},
     "output_type": "execute_result"
    }
   ],
   "source": [
    "# Create transactions for each of the InvoiceNo.\n",
    "\n",
    "grouped_df = data.groupby(by = ['InvoiceNo'])\n",
    "\n",
    "transactions = []\n",
    "for group, pdf in grouped_df:\n",
    "    transactions.append(pdf['Description'].tolist())\n",
    "    \n",
    "transactions"
   ]
  },
  {
   "cell_type": "markdown",
   "metadata": {},
   "source": [
    "### Generate patterns"
   ]
  },
  {
   "cell_type": "code",
   "execution_count": 6,
   "metadata": {},
   "outputs": [
    {
     "data": {
      "text/plain": [
       "{('salty_snack',): 3,\n",
       " ('salty_snack', 'soda'): 2,\n",
       " ('beer',): 3,\n",
       " ('beer', 'soda'): 3,\n",
       " ('cheeze', 'pizza_dough'): 3,\n",
       " ('cheeze', 'sauce'): 3,\n",
       " ('cheeze', 'pizza_dough', 'sauce'): 2,\n",
       " ('soda',): 4,\n",
       " ('pizza_dough',): 5,\n",
       " ('pizza_dough', 'sauce'): 4,\n",
       " ('sauce',): 6}"
      ]
     },
     "execution_count": 6,
     "metadata": {},
     "output_type": "execute_result"
    }
   ],
   "source": [
    "# Find the frequent patterns with support_threshold of 2\n",
    "\n",
    "patterns = pyfpgrowth.find_frequent_patterns(transactions, 2)\n",
    "patterns"
   ]
  },
  {
   "cell_type": "markdown",
   "metadata": {},
   "source": [
    "### Generate association rules"
   ]
  },
  {
   "cell_type": "code",
   "execution_count": 7,
   "metadata": {},
   "outputs": [
    {
     "data": {
      "text/plain": [
       "{('salty_snack',): (('soda',), 0.6666666666666666),\n",
       " ('soda',): (('beer',), 0.75),\n",
       " ('beer',): (('soda',), 1.0),\n",
       " ('pizza_dough',): (('sauce',), 0.8),\n",
       " ('sauce',): (('pizza_dough',), 0.6666666666666666),\n",
       " ('cheeze', 'pizza_dough'): (('sauce',), 0.6666666666666666),\n",
       " ('cheeze', 'sauce'): (('pizza_dough',), 0.6666666666666666),\n",
       " ('pizza_dough', 'sauce'): (('cheeze',), 0.5)}"
      ]
     },
     "execution_count": 7,
     "metadata": {},
     "output_type": "execute_result"
    }
   ],
   "source": [
    "# Generate association rules with confidence_threshold of 0.7\n",
    "\n",
    "rules = pyfpgrowth.generate_association_rules(patterns, 0.5)\n",
    "rules"
   ]
  },
  {
   "cell_type": "markdown",
   "metadata": {},
   "source": [
    "#### Observation"
   ]
  },
  {
   "cell_type": "markdown",
   "metadata": {},
   "source": [
    "It can be seen from the generated rules that  \n",
    "\n",
    "The probability of buying \"soda\" given that \"beer\" is already bought is 100%.  \n",
    "However, the probability of buying \"beer\" given that \"soda\" is already bought is 75%.\n",
    "\n",
    "Similarly, the probability of buying \"sauce\" given that \"pizza_dough\" is already bought is 80%."
   ]
  },
  {
   "cell_type": "markdown",
   "metadata": {},
   "source": [
    "### Visualization of Rules"
   ]
  },
  {
   "cell_type": "code",
   "execution_count": 8,
   "metadata": {},
   "outputs": [
    {
     "data": {
      "text/plain": [
       "{('salty_snack', 'soda'): 0.67,\n",
       " ('soda', 'beer'): 0.75,\n",
       " ('beer', 'soda'): 1.0,\n",
       " ('pizza_dough', 'sauce'): 0.8,\n",
       " ('sauce', 'pizza_dough'): 0.67,\n",
       " ('cheeze', 'sauce'): 0.67,\n",
       " ('cheeze', 'pizza_dough'): 0.67,\n",
       " ('pizza_dough', 'cheeze'): 0.5,\n",
       " ('sauce', 'cheeze'): 0.5}"
      ]
     },
     "execution_count": 8,
     "metadata": {},
     "output_type": "execute_result"
    }
   ],
   "source": [
    "# Create a dictionary representing the source and target edges with its confidence score as weights\n",
    "\n",
    "src_dest_wght = {}\n",
    "\n",
    "for key, val in rules.items():\n",
    "    if len(key) > 1:\n",
    "        for k in key:\n",
    "            if src_dest_wght.get((k, val[0][0])):\n",
    "                old_val = src_dest_wght[(k, val[0][0])]\n",
    "                src_dest_wght[(k, val[0][0])] = old_val if old_val > round(val[1], 2) else round(val[1], 2)\n",
    "            else:\n",
    "                src_dest_wght[(k, val[0][0])] = round(val[1], 2)\n",
    "    else:                \n",
    "        src_dest_wght[(key[0], val[0][0])] = round(val[1], 2)\n",
    "        \n",
    "src_dest_wght"
   ]
  },
  {
   "cell_type": "code",
   "execution_count": 9,
   "metadata": {},
   "outputs": [],
   "source": [
    "# Create a dictionary of {item:support_count}\n",
    "\n",
    "item_count = data.groupby(by = ['Description']).size().reset_index(name = 'support_count')\n",
    "item_supp = dict(zip(item_count['Description'], item_count['support_count']))"
   ]
  },
  {
   "cell_type": "code",
   "execution_count": 10,
   "metadata": {},
   "outputs": [
    {
     "data": {
      "image/png": "[encoded data removed]",
      "text/plain": [
       "<Figure size 720x504 with 1 Axes>"
      ]
     },
     "metadata": {},
     "output_type": "display_data"
    }
   ],
   "source": [
    "plt.figure(figsize =(10, 7)) \n",
    "\n",
    "# Define a directed graph\n",
    "G = nx.DiGraph()\n",
    "\n",
    "# Add all the item nodes\n",
    "for key in item_supp.keys():\n",
    "    G.add_node(key)\n",
    "\n",
    "# Set support_count attribute for all the nodes\n",
    "for i in list(G.nodes()): \n",
    "    G.nodes[i]['support_count'] = item_supp[i]\n",
    "     \n",
    "# Size of node is a list of support_count\n",
    "node_size = [nx.get_node_attributes(G, 'support_count')[v] ** 5.5 for v in G] \n",
    "    \n",
    "# Add edges to the graph vased on the rules\n",
    "for key, val in src_dest_wght.items():\n",
    "    G.add_edge(key[0], key[1], weight = val)\n",
    "\n",
    "# Node colour is a list of degrees of nodes \n",
    "node_color = [G.degree(v) for v in G] \n",
    "\n",
    "# Segregate edges based on the support_threshold value of 0.7\n",
    "elarge = [(u, v) for (u, v, d) in G.edges(data=True) if d['weight'] > 0.7]\n",
    "esmall = [(u, v) for (u, v, d) in G.edges(data=True) if d['weight'] <= 0.7]\n",
    "\n",
    "# Width of edge is a list of weight of edges\n",
    "elarge_width = [5 * G[u][v]['weight'] for u, v in G.edges()] \n",
    "esmall_width = [3 * G[u][v]['weight'] for u, v in G.edges()] \n",
    "\n",
    "# Define the graph layout\n",
    "pos = nx.circular_layout(G)    \n",
    "\n",
    "# Draw small edges with support_count <= 0.7\n",
    "nx.draw_networkx(G, pos, edgelist = esmall, node_size = node_size, node_color = node_color, alpha = 0.7, \n",
    "                 with_labels = True, width = esmall_width, edge_color ='g', cmap = plt.cm.Blues, \n",
    "                 connectionstyle='arc3, rad = 0.1')\n",
    "\n",
    "# Draw large edges with support_count > 0.7\n",
    "nx.draw_networkx(G, pos, edgelist = elarge, node_size = node_size, node_color = node_color, alpha = 0.7, \n",
    "                 with_labels = True, width = elarge_width, edge_color ='r', cmap = plt.cm.Blues, \n",
    "                 connectionstyle='arc3, rad = 0.2')  \n",
    "\n",
    "# Display edge weights\n",
    "labels = nx.get_edge_attributes(G,'weight')\n",
    "nx.draw_networkx_edge_labels(G, pos, edge_labels=labels, label_pos=0.3, font_size=10)\n",
    "\n",
    "plt.axis('off') \n",
    "plt.tight_layout();"
   ]
  },
  {
   "cell_type": "code",
   "execution_count": null,
   "metadata": {},
   "outputs": [],
   "source": []
  }
 ],
 "metadata": {
  "kernelspec": {
   "display_name": "Python 3",
   "language": "python",
   "name": "python3"
  },
  "language_info": {
   "codemirror_mode": {
    "name": "ipython",
    "version": 3
   },
   "file_extension": ".py",
   "mimetype": "text/x-python",
   "name": "python",
   "nbconvert_exporter": "python",
   "pygments_lexer": "ipython3",
   "version": "3.6.10"
  }
 },
 "nbformat": 4,
 "nbformat_minor": 4
}
